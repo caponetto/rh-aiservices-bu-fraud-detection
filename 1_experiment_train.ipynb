{
  "cells": [
   {
    "cell_type": "markdown",
    "metadata": {
     "tags": []
    },
    "source": [
     "# Experiment"
    ]
   },
   {
    "cell_type": "markdown",
    "metadata": {
     "tags": []
    },
    "source": [
     "## Install Python dependencies"
    ]
   },
   {
    "cell_type": "code",
    "execution_count": 1,
    "metadata": {
     "ExecuteTime": {
      "end_time": "2024-08-19T15:45:05.830869Z",
      "start_time": "2024-08-19T15:45:04.819700Z"
     },
     "is_executing": true
    },
    "outputs": [
     {
      "name": "stdout",
      "output_type": "stream",
      "text": [
       "Requirement already satisfied: onnx in /opt/app-root/lib64/python3.11/site-packages (1.17.0)\n",
       "Requirement already satisfied: onnxruntime in /opt/app-root/lib64/python3.11/site-packages (1.19.2)\n",
       "Requirement already satisfied: tf2onnx in /opt/app-root/lib64/python3.11/site-packages (1.16.1)\n",
       "Requirement already satisfied: numpy>=1.20 in /opt/app-root/lib64/python3.11/site-packages (from onnx) (1.26.4)\n",
       "Requirement already satisfied: protobuf>=3.20.2 in /opt/app-root/lib64/python3.11/site-packages (from onnx) (3.20.3)\n",
       "Requirement already satisfied: coloredlogs in /opt/app-root/lib64/python3.11/site-packages (from onnxruntime) (15.0.1)\n",
       "Requirement already satisfied: flatbuffers in /opt/app-root/lib64/python3.11/site-packages (from onnxruntime) (24.3.25)\n",
       "Requirement already satisfied: packaging in /opt/app-root/lib64/python3.11/site-packages (from onnxruntime) (24.1)\n",
       "Requirement already satisfied: sympy in /opt/app-root/lib64/python3.11/site-packages (from onnxruntime) (1.13.3)\n",
       "Requirement already satisfied: requests in /opt/app-root/lib64/python3.11/site-packages (from tf2onnx) (2.32.3)\n",
       "Requirement already satisfied: six in /opt/app-root/lib64/python3.11/site-packages (from tf2onnx) (1.16.0)\n",
       "Requirement already satisfied: humanfriendly>=9.1 in /opt/app-root/lib64/python3.11/site-packages (from coloredlogs->onnxruntime) (10.0)\n",
       "Requirement already satisfied: charset-normalizer<4,>=2 in /opt/app-root/lib64/python3.11/site-packages (from requests->tf2onnx) (3.3.2)\n",
       "Requirement already satisfied: idna<4,>=2.5 in /opt/app-root/lib64/python3.11/site-packages (from requests->tf2onnx) (3.10)\n",
       "Requirement already satisfied: urllib3<3,>=1.21.1 in /opt/app-root/lib64/python3.11/site-packages (from requests->tf2onnx) (1.26.20)\n",
       "Requirement already satisfied: certifi>=2017.4.17 in /opt/app-root/lib64/python3.11/site-packages (from requests->tf2onnx) (2024.8.30)\n",
       "Requirement already satisfied: mpmath<1.4,>=1.1.0 in /opt/app-root/lib64/python3.11/site-packages (from sympy->onnxruntime) (1.3.0)\n",
       "\n",
       "\u001b[1m[\u001b[0m\u001b[34;49mnotice\u001b[0m\u001b[1;39;49m]\u001b[0m\u001b[39;49m A new release of pip is available: \u001b[0m\u001b[31;49m23.2.1\u001b[0m\u001b[39;49m -> \u001b[0m\u001b[32;49m24.2\u001b[0m\n",
       "\u001b[1m[\u001b[0m\u001b[34;49mnotice\u001b[0m\u001b[1;39;49m]\u001b[0m\u001b[39;49m To update, run: \u001b[0m\u001b[32;49mpip install --upgrade pip\u001b[0m\n"
      ]
     }
    ],
    "source": [
     "!pip install onnx onnxruntime tf2onnx"
    ]
   },
   {
    "cell_type": "markdown",
    "metadata": {},
    "source": [
     "Import the dependencies for the model training code:"
    ]
   },
   {
    "cell_type": "code",
    "execution_count": 2,
    "metadata": {
     "ExecuteTime": {
      "end_time": "2024-08-19T15:45:08.983925Z",
      "start_time": "2024-08-19T15:45:05.835311Z"
     }
    },
    "outputs": [
     {
      "name": "stderr",
      "output_type": "stream",
      "text": [
       "2024-10-03 15:17:13.948454: I tensorflow/core/util/port.cc:153] oneDNN custom operations are on. You may see slightly different numerical results due to floating-point round-off errors from different computation orders. To turn them off, set the environment variable `TF_ENABLE_ONEDNN_OPTS=0`.\n",
       "2024-10-03 15:17:13.965586: E external/local_xla/xla/stream_executor/cuda/cuda_fft.cc:485] Unable to register cuFFT factory: Attempting to register factory for plugin cuFFT when one has already been registered\n",
       "2024-10-03 15:17:13.982815: E external/local_xla/xla/stream_executor/cuda/cuda_dnn.cc:8454] Unable to register cuDNN factory: Attempting to register factory for plugin cuDNN when one has already been registered\n",
       "2024-10-03 15:17:13.987977: E external/local_xla/xla/stream_executor/cuda/cuda_blas.cc:1452] Unable to register cuBLAS factory: Attempting to register factory for plugin cuBLAS when one has already been registered\n",
       "2024-10-03 15:17:14.001527: I tensorflow/core/platform/cpu_feature_guard.cc:210] This TensorFlow binary is optimized to use available CPU instructions in performance-critical operations.\n",
       "To enable the following instructions: AVX2 AVX512F AVX512_VNNI FMA, in other operations, rebuild TensorFlow with the appropriate compiler flags.\n",
       "2024-10-03 15:17:15.144027: W tensorflow/compiler/tf2tensorrt/utils/py_utils.cc:38] TF-TRT Warning: Could not find TensorRT\n"
      ]
     }
    ],
    "source": [
     "import numpy as np\n",
     "import pandas as pd\n",
     "import datetime\n",
     "from keras.models import Sequential\n",
     "from keras.layers import Dense, Dropout, BatchNormalization, Activation\n",
     "from sklearn.model_selection import train_test_split\n",
     "from sklearn.preprocessing import StandardScaler\n",
     "from sklearn.utils import class_weight\n",
     "import tf2onnx\n",
     "import onnx\n",
     "import pickle\n",
     "from pathlib import Path"
    ]
   },
   {
    "cell_type": "markdown",
    "metadata": {},
    "source": [
     "The output might show TensorFlow messages, such as a \"Could not find TensorRT\" warning. You can ignore these messages.\n"
    ]
   },
   {
    "cell_type": "markdown",
    "metadata": {},
    "source": [
     "## Load the CSV data\n",
     "\n",
     "The CSV data that you use to train the model contains the following fields:\n",
     "\n",
     "* **distancefromhome** - The distance from home where the transaction happened.\n",
     "* **distancefromlast_transaction** - The distance from the last transaction that happened.\n",
     "* **ratiotomedianpurchaseprice** - The ratio of purchased price compared to median purchase price.\n",
     "* **repeat_retailer** - If it's from a retailer that already has been purchased from before.\n",
     "* **used_chip** - If the credit card chip was used.\n",
     "* **usedpinnumber** - If the PIN number was used.\n",
     "* **online_order** - If it was an online order.\n",
     "* **fraud** - If the transaction is fraudulent."
    ]
   },
   {
    "cell_type": "code",
    "execution_count": 3,
    "metadata": {
     "ExecuteTime": {
      "end_time": "2024-08-19T15:45:09.394745Z",
      "start_time": "2024-08-19T15:45:09.051361Z"
     }
    },
    "outputs": [],
    "source": [
     "# Set the input (X) and output (Y) data. \n",
     "# The only output data is whether it's fraudulent. All other fields are inputs to the model.\n",
     "\n",
     "feature_indexes = [\n",
     "    1,  # distance_from_last_transaction\n",
     "    2,  # ratio_to_median_purchase_price\n",
     "    4,  # used_chip\n",
     "    5,  # used_pin_number\n",
     "    6,  # online_order\n",
     "]\n",
     "\n",
     "label_indexes = [\n",
     "    7  # fraud\n",
     "]\n",
     "\n",
     "X_train = pd.read_csv('data/train.csv')\n",
     "y_train = X_train.iloc[:, label_indexes]\n",
     "X_train = X_train.iloc[:, feature_indexes]\n",
     "\n",
     "X_val = pd.read_csv('data/validate.csv')\n",
     "y_val = X_val.iloc[:, label_indexes]\n",
     "X_val = X_val.iloc[:, feature_indexes]\n",
     "\n",
     "X_test = pd.read_csv('data/test.csv')\n",
     "y_test = X_test.iloc[:, label_indexes]\n",
     "X_test = X_test.iloc[:, feature_indexes]\n",
     "\n",
     "\n",
     "# Scale the data to remove mean and have unit variance. The data will be between -1 and 1, which makes it a lot easier for the model to learn than random (and potentially large) values.\n",
     "# It is important to only fit the scaler to the training data, otherwise you are leaking information about the global distribution of variables (which is influenced by the test set) into the training set.\n",
     "\n",
     "scaler = StandardScaler()\n",
     "\n",
     "X_train = scaler.fit_transform(X_train.values)\n",
     "\n",
     "Path(\"artifact\").mkdir(parents=True, exist_ok=True)\n",
     "with open(\"artifact/test_data.pkl\", \"wb\") as handle:\n",
     "    pickle.dump((X_test, y_test), handle)\n",
     "with open(\"artifact/scaler.pkl\", \"wb\") as handle:\n",
     "    pickle.dump(scaler, handle)\n",
     "\n",
     "# Since the dataset is unbalanced (it has many more non-fraud transactions than fraudulent ones), set a class weight to weight the few fraudulent transactions higher than the many non-fraud transactions.\n",
     "class_weights = class_weight.compute_class_weight('balanced', classes=np.unique(y_train), y=y_train.values.ravel())\n",
     "class_weights = {i : class_weights[i] for i in range(len(class_weights))}"
    ]
   },
   {
    "cell_type": "markdown",
    "metadata": {},
    "source": [
     "## Build the model\n",
     "\n",
     "The model is a simple, fully-connected, deep neural network, containing three hidden layers and one output layer."
    ]
   },
   {
    "cell_type": "code",
    "execution_count": 4,
    "metadata": {
     "ExecuteTime": {
      "end_time": "2024-08-19T15:45:09.489856Z",
      "start_time": "2024-08-19T15:45:09.419813Z"
     }
    },
    "outputs": [
     {
      "name": "stderr",
      "output_type": "stream",
      "text": [
       "/opt/app-root/lib64/python3.11/site-packages/keras/src/layers/core/dense.py:87: UserWarning: Do not pass an `input_shape`/`input_dim` argument to a layer. When using Sequential models, prefer using an `Input(shape)` object as the first layer in the model instead.\n",
       "  super().__init__(activity_regularizer=activity_regularizer, **kwargs)\n"
      ]
     },
     {
      "data": {
       "text/html": [
        "<pre style=\"white-space:pre;overflow-x:auto;line-height:normal;font-family:Menlo,'DejaVu Sans Mono',consolas,'Courier New',monospace\"><span style=\"font-weight: bold\">Model: \"sequential\"</span>\n",
        "</pre>\n"
       ],
       "text/plain": [
        "\u001b[1mModel: \"sequential\"\u001b[0m\n"
       ]
      },
      "metadata": {},
      "output_type": "display_data"
     },
     {
      "data": {
       "text/html": [
        "<pre style=\"white-space:pre;overflow-x:auto;line-height:normal;font-family:Menlo,'DejaVu Sans Mono',consolas,'Courier New',monospace\">┏━━━━━━━━━━━━━━━━━━━━━━━━━━━━━━━━━┳━━━━━━━━━━━━━━━━━━━━━━━━┳━━━━━━━━━━━━━━━┓\n",
        "┃<span style=\"font-weight: bold\"> Layer (type)                    </span>┃<span style=\"font-weight: bold\"> Output Shape           </span>┃<span style=\"font-weight: bold\">       Param # </span>┃\n",
        "┡━━━━━━━━━━━━━━━━━━━━━━━━━━━━━━━━━╇━━━━━━━━━━━━━━━━━━━━━━━━╇━━━━━━━━━━━━━━━┩\n",
        "│ dense (<span style=\"color: #0087ff; text-decoration-color: #0087ff\">Dense</span>)                   │ (<span style=\"color: #00d7ff; text-decoration-color: #00d7ff\">None</span>, <span style=\"color: #00af00; text-decoration-color: #00af00\">32</span>)             │           <span style=\"color: #00af00; text-decoration-color: #00af00\">192</span> │\n",
        "├─────────────────────────────────┼────────────────────────┼───────────────┤\n",
        "│ dropout (<span style=\"color: #0087ff; text-decoration-color: #0087ff\">Dropout</span>)               │ (<span style=\"color: #00d7ff; text-decoration-color: #00d7ff\">None</span>, <span style=\"color: #00af00; text-decoration-color: #00af00\">32</span>)             │             <span style=\"color: #00af00; text-decoration-color: #00af00\">0</span> │\n",
        "├─────────────────────────────────┼────────────────────────┼───────────────┤\n",
        "│ dense_1 (<span style=\"color: #0087ff; text-decoration-color: #0087ff\">Dense</span>)                 │ (<span style=\"color: #00d7ff; text-decoration-color: #00d7ff\">None</span>, <span style=\"color: #00af00; text-decoration-color: #00af00\">32</span>)             │         <span style=\"color: #00af00; text-decoration-color: #00af00\">1,056</span> │\n",
        "├─────────────────────────────────┼────────────────────────┼───────────────┤\n",
        "│ batch_normalization             │ (<span style=\"color: #00d7ff; text-decoration-color: #00d7ff\">None</span>, <span style=\"color: #00af00; text-decoration-color: #00af00\">32</span>)             │           <span style=\"color: #00af00; text-decoration-color: #00af00\">128</span> │\n",
        "│ (<span style=\"color: #0087ff; text-decoration-color: #0087ff\">BatchNormalization</span>)            │                        │               │\n",
        "├─────────────────────────────────┼────────────────────────┼───────────────┤\n",
        "│ activation (<span style=\"color: #0087ff; text-decoration-color: #0087ff\">Activation</span>)         │ (<span style=\"color: #00d7ff; text-decoration-color: #00d7ff\">None</span>, <span style=\"color: #00af00; text-decoration-color: #00af00\">32</span>)             │             <span style=\"color: #00af00; text-decoration-color: #00af00\">0</span> │\n",
        "├─────────────────────────────────┼────────────────────────┼───────────────┤\n",
        "│ dropout_1 (<span style=\"color: #0087ff; text-decoration-color: #0087ff\">Dropout</span>)             │ (<span style=\"color: #00d7ff; text-decoration-color: #00d7ff\">None</span>, <span style=\"color: #00af00; text-decoration-color: #00af00\">32</span>)             │             <span style=\"color: #00af00; text-decoration-color: #00af00\">0</span> │\n",
        "├─────────────────────────────────┼────────────────────────┼───────────────┤\n",
        "│ dense_2 (<span style=\"color: #0087ff; text-decoration-color: #0087ff\">Dense</span>)                 │ (<span style=\"color: #00d7ff; text-decoration-color: #00d7ff\">None</span>, <span style=\"color: #00af00; text-decoration-color: #00af00\">32</span>)             │         <span style=\"color: #00af00; text-decoration-color: #00af00\">1,056</span> │\n",
        "├─────────────────────────────────┼────────────────────────┼───────────────┤\n",
        "│ batch_normalization_1           │ (<span style=\"color: #00d7ff; text-decoration-color: #00d7ff\">None</span>, <span style=\"color: #00af00; text-decoration-color: #00af00\">32</span>)             │           <span style=\"color: #00af00; text-decoration-color: #00af00\">128</span> │\n",
        "│ (<span style=\"color: #0087ff; text-decoration-color: #0087ff\">BatchNormalization</span>)            │                        │               │\n",
        "├─────────────────────────────────┼────────────────────────┼───────────────┤\n",
        "│ activation_1 (<span style=\"color: #0087ff; text-decoration-color: #0087ff\">Activation</span>)       │ (<span style=\"color: #00d7ff; text-decoration-color: #00d7ff\">None</span>, <span style=\"color: #00af00; text-decoration-color: #00af00\">32</span>)             │             <span style=\"color: #00af00; text-decoration-color: #00af00\">0</span> │\n",
        "├─────────────────────────────────┼────────────────────────┼───────────────┤\n",
        "│ dropout_2 (<span style=\"color: #0087ff; text-decoration-color: #0087ff\">Dropout</span>)             │ (<span style=\"color: #00d7ff; text-decoration-color: #00d7ff\">None</span>, <span style=\"color: #00af00; text-decoration-color: #00af00\">32</span>)             │             <span style=\"color: #00af00; text-decoration-color: #00af00\">0</span> │\n",
        "├─────────────────────────────────┼────────────────────────┼───────────────┤\n",
        "│ dense_3 (<span style=\"color: #0087ff; text-decoration-color: #0087ff\">Dense</span>)                 │ (<span style=\"color: #00d7ff; text-decoration-color: #00d7ff\">None</span>, <span style=\"color: #00af00; text-decoration-color: #00af00\">1</span>)              │            <span style=\"color: #00af00; text-decoration-color: #00af00\">33</span> │\n",
        "└─────────────────────────────────┴────────────────────────┴───────────────┘\n",
        "</pre>\n"
       ],
       "text/plain": [
        "┏━━━━━━━━━━━━━━━━━━━━━━━━━━━━━━━━━┳━━━━━━━━━━━━━━━━━━━━━━━━┳━━━━━━━━━━━━━━━┓\n",
        "┃\u001b[1m \u001b[0m\u001b[1mLayer (type)                   \u001b[0m\u001b[1m \u001b[0m┃\u001b[1m \u001b[0m\u001b[1mOutput Shape          \u001b[0m\u001b[1m \u001b[0m┃\u001b[1m \u001b[0m\u001b[1m      Param #\u001b[0m\u001b[1m \u001b[0m┃\n",
        "┡━━━━━━━━━━━━━━━━━━━━━━━━━━━━━━━━━╇━━━━━━━━━━━━━━━━━━━━━━━━╇━━━━━━━━━━━━━━━┩\n",
        "│ dense (\u001b[38;5;33mDense\u001b[0m)                   │ (\u001b[38;5;45mNone\u001b[0m, \u001b[38;5;34m32\u001b[0m)             │           \u001b[38;5;34m192\u001b[0m │\n",
        "├─────────────────────────────────┼────────────────────────┼───────────────┤\n",
        "│ dropout (\u001b[38;5;33mDropout\u001b[0m)               │ (\u001b[38;5;45mNone\u001b[0m, \u001b[38;5;34m32\u001b[0m)             │             \u001b[38;5;34m0\u001b[0m │\n",
        "├─────────────────────────────────┼────────────────────────┼───────────────┤\n",
        "│ dense_1 (\u001b[38;5;33mDense\u001b[0m)                 │ (\u001b[38;5;45mNone\u001b[0m, \u001b[38;5;34m32\u001b[0m)             │         \u001b[38;5;34m1,056\u001b[0m │\n",
        "├─────────────────────────────────┼────────────────────────┼───────────────┤\n",
        "│ batch_normalization             │ (\u001b[38;5;45mNone\u001b[0m, \u001b[38;5;34m32\u001b[0m)             │           \u001b[38;5;34m128\u001b[0m │\n",
        "│ (\u001b[38;5;33mBatchNormalization\u001b[0m)            │                        │               │\n",
        "├─────────────────────────────────┼────────────────────────┼───────────────┤\n",
        "│ activation (\u001b[38;5;33mActivation\u001b[0m)         │ (\u001b[38;5;45mNone\u001b[0m, \u001b[38;5;34m32\u001b[0m)             │             \u001b[38;5;34m0\u001b[0m │\n",
        "├─────────────────────────────────┼────────────────────────┼───────────────┤\n",
        "│ dropout_1 (\u001b[38;5;33mDropout\u001b[0m)             │ (\u001b[38;5;45mNone\u001b[0m, \u001b[38;5;34m32\u001b[0m)             │             \u001b[38;5;34m0\u001b[0m │\n",
        "├─────────────────────────────────┼────────────────────────┼───────────────┤\n",
        "│ dense_2 (\u001b[38;5;33mDense\u001b[0m)                 │ (\u001b[38;5;45mNone\u001b[0m, \u001b[38;5;34m32\u001b[0m)             │         \u001b[38;5;34m1,056\u001b[0m │\n",
        "├─────────────────────────────────┼────────────────────────┼───────────────┤\n",
        "│ batch_normalization_1           │ (\u001b[38;5;45mNone\u001b[0m, \u001b[38;5;34m32\u001b[0m)             │           \u001b[38;5;34m128\u001b[0m │\n",
        "│ (\u001b[38;5;33mBatchNormalization\u001b[0m)            │                        │               │\n",
        "├─────────────────────────────────┼────────────────────────┼───────────────┤\n",
        "│ activation_1 (\u001b[38;5;33mActivation\u001b[0m)       │ (\u001b[38;5;45mNone\u001b[0m, \u001b[38;5;34m32\u001b[0m)             │             \u001b[38;5;34m0\u001b[0m │\n",
        "├─────────────────────────────────┼────────────────────────┼───────────────┤\n",
        "│ dropout_2 (\u001b[38;5;33mDropout\u001b[0m)             │ (\u001b[38;5;45mNone\u001b[0m, \u001b[38;5;34m32\u001b[0m)             │             \u001b[38;5;34m0\u001b[0m │\n",
        "├─────────────────────────────────┼────────────────────────┼───────────────┤\n",
        "│ dense_3 (\u001b[38;5;33mDense\u001b[0m)                 │ (\u001b[38;5;45mNone\u001b[0m, \u001b[38;5;34m1\u001b[0m)              │            \u001b[38;5;34m33\u001b[0m │\n",
        "└─────────────────────────────────┴────────────────────────┴───────────────┘\n"
       ]
      },
      "metadata": {},
      "output_type": "display_data"
     },
     {
      "data": {
       "text/html": [
        "<pre style=\"white-space:pre;overflow-x:auto;line-height:normal;font-family:Menlo,'DejaVu Sans Mono',consolas,'Courier New',monospace\"><span style=\"font-weight: bold\"> Total params: </span><span style=\"color: #00af00; text-decoration-color: #00af00\">2,593</span> (10.13 KB)\n",
        "</pre>\n"
       ],
       "text/plain": [
        "\u001b[1m Total params: \u001b[0m\u001b[38;5;34m2,593\u001b[0m (10.13 KB)\n"
       ]
      },
      "metadata": {},
      "output_type": "display_data"
     },
     {
      "data": {
       "text/html": [
        "<pre style=\"white-space:pre;overflow-x:auto;line-height:normal;font-family:Menlo,'DejaVu Sans Mono',consolas,'Courier New',monospace\"><span style=\"font-weight: bold\"> Trainable params: </span><span style=\"color: #00af00; text-decoration-color: #00af00\">2,465</span> (9.63 KB)\n",
        "</pre>\n"
       ],
       "text/plain": [
        "\u001b[1m Trainable params: \u001b[0m\u001b[38;5;34m2,465\u001b[0m (9.63 KB)\n"
       ]
      },
      "metadata": {},
      "output_type": "display_data"
     },
     {
      "data": {
       "text/html": [
        "<pre style=\"white-space:pre;overflow-x:auto;line-height:normal;font-family:Menlo,'DejaVu Sans Mono',consolas,'Courier New',monospace\"><span style=\"font-weight: bold\"> Non-trainable params: </span><span style=\"color: #00af00; text-decoration-color: #00af00\">128</span> (512.00 B)\n",
        "</pre>\n"
       ],
       "text/plain": [
        "\u001b[1m Non-trainable params: \u001b[0m\u001b[38;5;34m128\u001b[0m (512.00 B)\n"
       ]
      },
      "metadata": {},
      "output_type": "display_data"
     }
    ],
    "source": [
     "model = Sequential()\n",
     "model.add(Dense(32, activation = 'relu', input_dim = len(feature_indexes)))\n",
     "model.add(Dropout(0.2))\n",
     "model.add(Dense(32))\n",
     "model.add(BatchNormalization())\n",
     "model.add(Activation('relu'))\n",
     "model.add(Dropout(0.2))\n",
     "model.add(Dense(32))\n",
     "model.add(BatchNormalization())\n",
     "model.add(Activation('relu'))\n",
     "model.add(Dropout(0.2))\n",
     "model.add(Dense(1, activation = 'sigmoid'))\n",
     "model.compile(optimizer='adam',loss='binary_crossentropy',metrics=['accuracy'])\n",
     "model.summary()"
    ]
   },
   {
    "cell_type": "markdown",
    "metadata": {},
    "source": [
     "## Train the model\n",
     "\n",
     "Training a model is often the most time-consuming part of the machine learning process.  Large models can take multiple GPUs for days.  Expect the training on CPU for this very simple model to take a minute or more."
    ]
   },
   {
    "cell_type": "code",
    "execution_count": 5,
    "metadata": {
     "ExecuteTime": {
      "end_time": "2024-08-19T15:45:29.664796Z",
      "start_time": "2024-08-19T15:45:09.496686Z"
     }
    },
    "outputs": [
     {
      "name": "stdout",
      "output_type": "stream",
      "text": [
       "Epoch 1/2\n",
       "\u001b[1m18750/18750\u001b[0m \u001b[32m━━━━━━━━━━━━━━━━━━━━\u001b[0m\u001b[37m\u001b[0m \u001b[1m30s\u001b[0m 1ms/step - accuracy: 0.9024 - loss: 0.2915 - val_accuracy: 0.9424 - val_loss: 0.2340\n",
       "Epoch 2/2\n",
       "\u001b[1m18750/18750\u001b[0m \u001b[32m━━━━━━━━━━━━━━━━━━━━\u001b[0m\u001b[37m\u001b[0m \u001b[1m41s\u001b[0m 1ms/step - accuracy: 0.9467 - loss: 0.2369 - val_accuracy: 0.9464 - val_loss: 0.2268\n",
       "Training of model is complete. Took 71.51721715927124 seconds\n"
      ]
     }
    ],
    "source": [
     "# Train the model and get performance\n",
     "import os\n",
     "import time\n",
     "\n",
     "start = time.time()\n",
     "epochs = 2\n",
     "history = model.fit(X_train, y_train.values, epochs=epochs, \\\n",
     "                    validation_data=(scaler.transform(X_val.values),y_val), \\\n",
     "                    verbose = True, class_weight = class_weights)\n",
     "end = time.time()\n",
     "print(f\"Training of model is complete. Took {end-start} seconds\")"
    ]
   },
   {
    "cell_type": "markdown",
    "metadata": {},
    "source": [
     "## Save the model file"
    ]
   },
   {
    "cell_type": "code",
    "execution_count": 6,
    "metadata": {
     "ExecuteTime": {
      "end_time": "2024-08-19T15:45:29.845680Z",
      "start_time": "2024-08-19T15:45:29.674230Z"
     }
    },
    "outputs": [
     {
      "name": "stderr",
      "output_type": "stream",
      "text": [
       "WARNING: All log messages before absl::InitializeLog() is called are written to STDERR\n",
       "I0000 00:00:1727968709.383257    1395 devices.cc:67] Number of eligible GPUs (core count >= 8, compute capability >= 0.0): 0\n",
       "2024-10-03 15:18:29.383470: I tensorflow/core/grappler/clusters/single_machine.cc:361] Starting new session\n",
       "I0000 00:00:1727968709.519828    1395 devices.cc:67] Number of eligible GPUs (core count >= 8, compute capability >= 0.0): 0\n",
       "2024-10-03 15:18:29.520067: I tensorflow/core/grappler/clusters/single_machine.cc:361] Starting new session\n"
      ]
     }
    ],
    "source": [
     "import tensorflow as tf\n",
     "\n",
     "# Wrap the model in a `tf.function`\n",
     "@tf.function(input_signature=[tf.TensorSpec([None, X_train.shape[1]], tf.float32)])\n",
     "def model_fn(x):\n",
     "    return model(x)\n",
     "\n",
     "# Convert the Keras model to ONNX\n",
     "model_proto, _ = tf2onnx.convert.from_function(\n",
     "    model_fn,\n",
     "    input_signature=[tf.TensorSpec([None, X_train.shape[1]], tf.float32)]\n",
     ")\n",
     "\n",
     "# Save the model as ONNX for easy use of ModelMesh\n",
     "os.makedirs(\"models/fraud/1\", exist_ok=True)\n",
     "onnx.save(model_proto, \"models/fraud/1/model.onnx\")"
    ]
   },
   {
    "cell_type": "markdown",
    "metadata": {},
    "source": [
     "The output might include TensorFlow messages related to GPUs. You can ignore these messages."
    ]
   },
   {
    "cell_type": "markdown",
    "metadata": {},
    "source": [
     "## Confirm the model file was created successfully\n",
     "\n",
     "The output should include the model name, size, and date. "
    ]
   },
   {
    "cell_type": "code",
    "execution_count": 7,
    "metadata": {
     "ExecuteTime": {
      "end_time": "2024-08-19T15:45:30.012353Z",
      "start_time": "2024-08-19T15:45:29.856416Z"
     }
    },
    "outputs": [
     {
      "name": "stdout",
      "output_type": "stream",
      "text": [
       "./models/:\n",
       "total 12K\n",
       "drwxr-sr-x.  3 1000810000 1000810000 4.0K Oct  3 15:18 .\n",
       "drwxr-sr-x. 14 1000810000 1000810000 4.0K Oct  3 15:18 ..\n",
       "drwxr-sr-x.  3 1000810000 1000810000 4.0K Oct  3 15:18 fraud\n",
       "\n",
       "./models/fraud:\n",
       "total 12K\n",
       "drwxr-sr-x. 3 1000810000 1000810000 4.0K Oct  3 15:18 .\n",
       "drwxr-sr-x. 3 1000810000 1000810000 4.0K Oct  3 15:18 ..\n",
       "drwxr-sr-x. 2 1000810000 1000810000 4.0K Oct  3 15:18 1\n",
       "\n",
       "./models/fraud/1:\n",
       "total 24K\n",
       "drwxr-sr-x. 2 1000810000 1000810000 4.0K Oct  3 15:18 .\n",
       "drwxr-sr-x. 3 1000810000 1000810000 4.0K Oct  3 15:18 ..\n",
       "-rw-r--r--. 1 1000810000 1000810000  13K Oct  3 15:18 model.onnx\n"
      ]
     }
    ],
    "source": [
     "! ls -alRh ./models/"
    ]
   },
   {
    "cell_type": "markdown",
    "metadata": {},
    "source": [
     "## Test the model"
    ]
   },
   {
    "cell_type": "code",
    "execution_count": 8,
    "metadata": {
     "ExecuteTime": {
      "end_time": "2024-08-19T15:45:30.047040Z",
      "start_time": "2024-08-19T15:45:30.029773Z"
     }
    },
    "outputs": [],
    "source": [
     "from sklearn.metrics import confusion_matrix, ConfusionMatrixDisplay\n",
     "import numpy as np\n",
     "import pickle\n",
     "import onnxruntime as rt"
    ]
   },
   {
    "cell_type": "markdown",
    "metadata": {},
    "source": [
     "Load the test data and scaler:"
    ]
   },
   {
    "cell_type": "code",
    "execution_count": 9,
    "metadata": {
     "ExecuteTime": {
      "end_time": "2024-08-19T15:45:30.062713Z",
      "start_time": "2024-08-19T15:45:30.058023Z"
     }
    },
    "outputs": [],
    "source": [
     "with open('artifact/scaler.pkl', 'rb') as handle:\n",
     "    scaler = pickle.load(handle)\n",
     "with open('artifact/test_data.pkl', 'rb') as handle:\n",
     "    (X_test, y_test) = pickle.load(handle)"
    ]
   },
   {
    "cell_type": "markdown",
    "metadata": {},
    "source": [
     "Create an ONNX inference runtime session and predict values for all test inputs:"
    ]
   },
   {
    "cell_type": "code",
    "execution_count": 10,
    "metadata": {
     "ExecuteTime": {
      "end_time": "2024-08-19T15:45:30.210272Z",
      "start_time": "2024-08-19T15:45:30.073900Z"
     }
    },
    "outputs": [],
    "source": [
     "sess = rt.InferenceSession(\"models/fraud/1/model.onnx\", providers=rt.get_available_providers())\n",
     "input_name = sess.get_inputs()[0].name\n",
     "output_name = sess.get_outputs()[0].name\n",
     "y_pred_temp = sess.run([output_name], {input_name: scaler.transform(X_test.values).astype(np.float32)}) \n",
     "y_pred_temp = np.asarray(np.squeeze(y_pred_temp[0]))\n",
     "threshold = 0.95\n",
     "y_pred = np.where(y_pred_temp > threshold, 1, 0)"
    ]
   },
   {
    "cell_type": "markdown",
    "metadata": {},
    "source": [
     "Show the results:"
    ]
   },
   {
    "cell_type": "code",
    "execution_count": 11,
    "metadata": {
     "ExecuteTime": {
      "end_time": "2024-08-19T15:45:30.644142Z",
      "start_time": "2024-08-19T15:45:30.221686Z"
     },
     "tags": []
    },
    "outputs": [
     {
      "name": "stdout",
      "output_type": "stream",
      "text": [
       "Eval Metrics: \n",
       " Accuracy: 97.4%, Precision: 0.9354, Recall: 0.7482 \n",
       "\n"
      ]
     },
     {
      "data": {
       "text/plain": [
        "<sklearn.metrics._plot.confusion_matrix.ConfusionMatrixDisplay at 0x7f3afd926490>"
       ]
      },
      "execution_count": 11,
      "metadata": {},
      "output_type": "execute_result"
     },
     {
      "data": {
       "image/png": "[encoded data removed]",
       "text/plain": [
        "<Figure size 640x480 with 2 Axes>"
       ]
      },
      "metadata": {},
      "output_type": "display_data"
     }
    ],
    "source": [
     "from sklearn.metrics import precision_score, recall_score, confusion_matrix, ConfusionMatrixDisplay\n",
     "import numpy as np\n",
     "\n",
     "y_test_arr = y_test.to_numpy().squeeze()\n",
     "correct = np.equal(y_pred, y_test_arr).sum().item()\n",
     "acc = (correct / len(y_pred)) * 100\n",
     "precision = precision_score(y_test_arr, np.round(y_pred))\n",
     "recall = recall_score(y_test_arr, np.round(y_pred))\n",
     "\n",
     "print(f\"Eval Metrics: \\n Accuracy: {acc:>0.1f}%, \"\n",
     "      f\"Precision: {precision:.4f}, Recall: {recall:.4f} \\n\")\n",
     "\n",
     "c_matrix = confusion_matrix(y_test_arr, y_pred)\n",
     "ConfusionMatrixDisplay(c_matrix).plot()"
    ]
   },
   {
    "cell_type": "markdown",
    "metadata": {},
    "source": [
     "## Example: Is Sally's transaction likely to be fraudulent?\n",
     "\n",
     "Here is the order of the fields from Sally's transaction details:\n",
     "* distance_from_last_transaction\n",
     "* ratio_to_median_price\n",
     "* used_chip \n",
     "* used_pin_number\n",
     "* online_order "
    ]
   },
   {
    "cell_type": "code",
    "execution_count": 12,
    "metadata": {
     "ExecuteTime": {
      "end_time": "2024-08-19T15:45:30.679688Z",
      "start_time": "2024-08-19T15:45:30.669086Z"
     },
     "tags": []
    },
    "outputs": [
     {
      "name": "stdout",
      "output_type": "stream",
      "text": [
       "Is Sally's transaction predicted to be fraudulent? (true = YES, false = NO) \n",
       "False\n",
       "How likely was Sally's transaction to be fraudulent? \n",
       "0.00047%\n"
      ]
     }
    ],
    "source": [
     "sally_transaction_details = [\n",
     "    [0.3111400080477545,\n",
     "    1.9459399775518593,\n",
     "    1.0,\n",
     "    0.0,\n",
     "    0.0]\n",
     "    ]\n",
     "\n",
     "prediction = sess.run([output_name], {input_name: scaler.transform(sally_transaction_details).astype(np.float32)})\n",
     "\n",
     "print(\"Is Sally's transaction predicted to be fraudulent? (true = YES, false = NO) \")\n",
     "print(np.squeeze(prediction) > threshold)\n",
     "\n",
     "print(\"How likely was Sally's transaction to be fraudulent? \")\n",
     "print(\"{:.5f}\".format(np.squeeze(prediction)) + \"%\")"
    ]
   }
  ],
  "metadata": {
   "kernelspec": {
    "display_name": "Python 3.11",
    "language": "python",
    "name": "python3"
   },
   "language_info": {
    "codemirror_mode": {
     "name": "ipython",
     "version": 3
    },
    "file_extension": ".py",
    "mimetype": "text/x-python",
    "name": "python",
    "nbconvert_exporter": "python",
    "pygments_lexer": "ipython3",
    "version": "3.11.7"
   },
   "vscode": {
    "interpreter": {
     "hash": "63462a1f26ab486248b2a0fd058a0d9f9a6566a80083a3e1eb8f35617f2381b2"
    }
   }
  },
  "nbformat": 4,
  "nbformat_minor": 4
 }
